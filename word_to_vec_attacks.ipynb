{
 "cells": [
  {
   "cell_type": "markdown",
   "id": "df4dc6ca",
   "metadata": {
    "ExecuteTime": {
     "end_time": "2021-12-13T22:04:09.849934Z",
     "start_time": "2021-12-13T22:04:09.836923Z"
    }
   },
   "source": [
    "# Generating grey box antonym based attacks:\n",
    "\n",
    "we try to find antonyms of test words with high attention using word to vec and insert them at the sentence and comment level "
   ]
  },
  {
   "cell_type": "code",
   "execution_count": 16,
   "id": "80deb3ca",
   "metadata": {
    "ExecuteTime": {
     "end_time": "2021-12-13T22:33:19.291364Z",
     "start_time": "2021-12-13T22:33:19.280364Z"
    }
   },
   "outputs": [],
   "source": [
    "#first, predict on test and sort by confidence\n",
    "from positive_words_sentence_attack import pos_words_sent_attack\n",
    "import os\n",
    "import sys\n",
    "import inspect\n",
    "import predict_utils as pred\n",
    "import pandas as pd \n",
    "from itertools import chain\n",
    "from collections import Counter"
   ]
  },
  {
   "cell_type": "code",
   "execution_count": 7,
   "id": "bbc5f993",
   "metadata": {
    "ExecuteTime": {
     "end_time": "2021-12-13T22:29:07.771677Z",
     "start_time": "2021-12-13T22:29:07.760678Z"
    }
   },
   "outputs": [],
   "source": [
    "model_type = 'baseline'\n",
    "data_folder = 'preprocessed/try_2/'\n",
    "test_data_path = os.path.join(data_folder,\"test_comments_df\")"
   ]
  },
  {
   "cell_type": "code",
   "execution_count": 5,
   "id": "1182eafc",
   "metadata": {
    "ExecuteTime": {
     "end_time": "2021-12-13T22:15:14.596362Z",
     "start_time": "2021-12-13T22:14:54.214364Z"
    }
   },
   "outputs": [
    {
     "name": "stdout",
     "output_type": "stream",
     "text": [
      "Running baseline from C:\\Users\\apra\\Desktop\\FALL 2021\\CY 7990\\abusive_filter_attacks\\model_new\\model_noatt_checkpoints\\best_model\n",
      "padded sent: (2308, 100)\n",
      "feature shape: (2308, 100)\n",
      "padded pos sentences: (2308, 100)\n",
      "debug padded_pos_sentences: ['A', ',', '^', '<UNK>', '<UNK>', '<UNK>', '<UNK>', '<UNK>', '<UNK>', '<UNK>']\n",
      "pos feature shape: (2308, 100)\n",
      "Running model on 2308 test samples\n",
      "WARNING:tensorflow:From C:\\Users\\apra\\Desktop\\FALL 2021\\CY 7990\\abusive_filter_attacks\\predict_utils.py:49: The name tf.ConfigProto is deprecated. Please use tf.compat.v1.ConfigProto instead.\n",
      "\n",
      "WARNING:tensorflow:From C:\\Users\\apra\\Desktop\\FALL 2021\\CY 7990\\abusive_filter_attacks\\predict_utils.py:53: The name tf.Session is deprecated. Please use tf.compat.v1.Session instead.\n",
      "\n",
      "WARNING:tensorflow:From C:\\Users\\apra\\Desktop\\FALL 2021\\CY 7990\\abusive_filter_attacks\\model_new\\abuse_classifier.py:16: The name tf.placeholder is deprecated. Please use tf.compat.v1.placeholder instead.\n",
      "\n",
      "WARNING:tensorflow:From C:\\Users\\apra\\Desktop\\FALL 2021\\CY 7990\\abusive_filter_attacks\\model_new\\abuse_classifier.py:41: The name tf.variable_scope is deprecated. Please use tf.compat.v1.variable_scope instead.\n",
      "\n",
      "WARNING:tensorflow:From C:\\Users\\apra\\Desktop\\FALL 2021\\CY 7990\\abusive_filter_attacks\\model_new\\abuse_classifier.py:47: LSTMCell.__init__ (from tensorflow.python.ops.rnn_cell_impl) is deprecated and will be removed in a future version.\n",
      "Instructions for updating:\n",
      "This class is equivalent as tf.keras.layers.LSTMCell, and will be replaced by that in Tensorflow 2.0.\n",
      "WARNING:tensorflow:From C:\\Users\\apra\\Desktop\\FALL 2021\\CY 7990\\abusive_filter_attacks\\model_new\\abuse_classifier.py:49: bidirectional_dynamic_rnn (from tensorflow.python.ops.rnn) is deprecated and will be removed in a future version.\n",
      "Instructions for updating:\n",
      "Please use `keras.layers.Bidirectional(keras.layers.RNN(cell))`, which is equivalent to this API\n",
      "WARNING:tensorflow:From C:\\Users\\apra\\Anaconda3\\envs\\toxicity_filter_attacks_tf1\\lib\\site-packages\\tensorflow_core\\python\\ops\\rnn.py:464: dynamic_rnn (from tensorflow.python.ops.rnn) is deprecated and will be removed in a future version.\n",
      "Instructions for updating:\n",
      "Please use `keras.layers.RNN(cell)`, which is equivalent to this API\n",
      "WARNING:tensorflow:From C:\\Users\\apra\\Anaconda3\\envs\\toxicity_filter_attacks_tf1\\lib\\site-packages\\tensorflow_core\\python\\ops\\rnn_cell_impl.py:958: Layer.add_variable (from tensorflow.python.keras.engine.base_layer) is deprecated and will be removed in a future version.\n",
      "Instructions for updating:\n",
      "Please use `layer.add_weight` method instead.\n",
      "WARNING:tensorflow:From C:\\Users\\apra\\Anaconda3\\envs\\toxicity_filter_attacks_tf1\\lib\\site-packages\\tensorflow_core\\python\\ops\\rnn_cell_impl.py:962: calling Zeros.__init__ (from tensorflow.python.ops.init_ops) with dtype is deprecated and will be removed in a future version.\n",
      "Instructions for updating:\n",
      "Call initializer instance with the dtype argument instead of passing it to the constructor\n",
      "WARNING:tensorflow:From C:\\Users\\apra\\Anaconda3\\envs\\toxicity_filter_attacks_tf1\\lib\\site-packages\\tensorflow_core\\python\\ops\\rnn.py:244: where (from tensorflow.python.ops.array_ops) is deprecated and will be removed in a future version.\n",
      "Instructions for updating:\n",
      "Use tf.where in 2.0, which has the same broadcast rule as np.where\n",
      "WARNING:tensorflow:From C:\\Users\\apra\\Desktop\\FALL 2021\\CY 7990\\abusive_filter_attacks\\model_new\\attention.py:39: The name tf.random_normal is deprecated. Please use tf.random.normal instead.\n",
      "\n",
      "WARNING:tensorflow:From C:\\Users\\apra\\Desktop\\FALL 2021\\CY 7990\\abusive_filter_attacks\\model_new\\abuse_classifier.py:53: calling dropout (from tensorflow.python.ops.nn_ops) with keep_prob is deprecated and will be removed in a future version.\n",
      "Instructions for updating:\n",
      "Please use `rate` instead of `keep_prob`. Rate should be set to `rate = 1 - keep_prob`.\n",
      "WARNING:tensorflow:From C:\\Users\\apra\\Desktop\\FALL 2021\\CY 7990\\abusive_filter_attacks\\model_new\\abuse_classifier.py:58: The name tf.truncated_normal is deprecated. Please use tf.random.truncated_normal instead.\n",
      "\n",
      "WARNING:tensorflow:From C:\\Users\\apra\\Desktop\\FALL 2021\\CY 7990\\abusive_filter_attacks\\model_new\\abuse_classifier.py:60: The name tf.nn.xw_plus_b is deprecated. Please use tf.compat.v1.nn.xw_plus_b instead.\n",
      "\n",
      "WARNING:tensorflow:From C:\\Users\\apra\\Desktop\\FALL 2021\\CY 7990\\abusive_filter_attacks\\model_new\\abuse_classifier.py:73: softmax_cross_entropy_with_logits (from tensorflow.python.ops.nn_ops) is deprecated and will be removed in a future version.\n",
      "Instructions for updating:\n",
      "\n",
      "Future major versions of TensorFlow will allow gradients to flow\n",
      "into the labels input on backprop by default.\n",
      "\n",
      "See `tf.nn.softmax_cross_entropy_with_logits_v2`.\n",
      "\n",
      "No supervised attention.\n",
      "WARNING:tensorflow:From C:\\Users\\apra\\Desktop\\FALL 2021\\CY 7990\\abusive_filter_attacks\\predict_utils.py:69: The name tf.train.Saver is deprecated. Please use tf.compat.v1.train.Saver instead.\n",
      "\n",
      "WARNING:tensorflow:From C:\\Users\\apra\\Desktop\\FALL 2021\\CY 7990\\abusive_filter_attacks\\predict_utils.py:69: all_variables (from tensorflow.python.ops.variables) is deprecated and will be removed after 2017-03-02.\n",
      "Instructions for updating:\n",
      "Please use tf.global_variables instead.\n",
      "WARNING:tensorflow:From C:\\Users\\apra\\Anaconda3\\envs\\toxicity_filter_attacks_tf1\\lib\\site-packages\\tensorflow_core\\python\\util\\tf_should_use.py:198: initialize_all_variables (from tensorflow.python.ops.variables) is deprecated and will be removed after 2017-03-02.\n",
      "Instructions for updating:\n",
      "Use `tf.global_variables_initializer` instead.\n",
      "INFO:tensorflow:Restoring parameters from C:\\Users\\apra\\Desktop\\FALL 2021\\CY 7990\\abusive_filter_attacks\\model_new\\model_noatt_checkpoints\\best_model\n"
     ]
    }
   ],
   "source": [
    "confidences, predictions, ground_truth, alphas = pred.get_predictions(r'model_new', data_folder, data_type=\"test\", dump_folder_path=\"dump_2\",\n",
    "                model_type=model_type)\n",
    "        "
   ]
  },
  {
   "cell_type": "code",
   "execution_count": 13,
   "id": "dea73c24",
   "metadata": {
    "ExecuteTime": {
     "end_time": "2021-12-13T22:32:26.221466Z",
     "start_time": "2021-12-13T22:32:26.216466Z"
    }
   },
   "outputs": [],
   "source": [
    "def get_counts(data_df):\n",
    "    \"\"\"\n",
    "    returns a Counter object with the counts of each word in the given dataframe\n",
    "    :param data_df:\n",
    "    :return:\n",
    "    \"\"\"\n",
    "    corpus = list(data_df[\"tokenized\"].values)\n",
    "    corpus = list(chain.from_iterable(corpus))\n",
    "    return Counter(corpus)"
   ]
  },
  {
   "cell_type": "code",
   "execution_count": 11,
   "id": "40a42e83",
   "metadata": {
    "ExecuteTime": {
     "end_time": "2021-12-13T22:30:01.092770Z",
     "start_time": "2021-12-13T22:30:01.064768Z"
    }
   },
   "outputs": [],
   "source": [
    "#load testing data (comment level)\n",
    "test_data = pd.read_pickle(test_data_path)\n",
    "test_data['alphas'] = alphas\n",
    "\n"
   ]
  },
  {
   "cell_type": "code",
   "execution_count": 17,
   "id": "a82f05fe",
   "metadata": {
    "ExecuteTime": {
     "end_time": "2021-12-13T22:33:23.257735Z",
     "start_time": "2021-12-13T22:33:23.231550Z"
    }
   },
   "outputs": [],
   "source": [
    "#now get word counts and sort by avegerage alpha in descending order\n",
    "all_counts = get_counts(test_data)"
   ]
  },
  {
   "cell_type": "code",
   "execution_count": null,
   "id": "92bd59ac",
   "metadata": {},
   "outputs": [],
   "source": []
  }
 ],
 "metadata": {
  "kernelspec": {
   "display_name": "Python 3",
   "language": "python",
   "name": "python3"
  },
  "language_info": {
   "codemirror_mode": {
    "name": "ipython",
    "version": 3
   },
   "file_extension": ".py",
   "mimetype": "text/x-python",
   "name": "python",
   "nbconvert_exporter": "python",
   "pygments_lexer": "ipython3",
   "version": "3.6.13"
  },
  "toc": {
   "base_numbering": 1,
   "nav_menu": {},
   "number_sections": true,
   "sideBar": true,
   "skip_h1_title": false,
   "title_cell": "Table of Contents",
   "title_sidebar": "Contents",
   "toc_cell": false,
   "toc_position": {},
   "toc_section_display": true,
   "toc_window_display": false
  },
  "varInspector": {
   "cols": {
    "lenName": 16,
    "lenType": 16,
    "lenVar": 40
   },
   "kernels_config": {
    "python": {
     "delete_cmd_postfix": "",
     "delete_cmd_prefix": "del ",
     "library": "var_list.py",
     "varRefreshCmd": "print(var_dic_list())"
    },
    "r": {
     "delete_cmd_postfix": ") ",
     "delete_cmd_prefix": "rm(",
     "library": "var_list.r",
     "varRefreshCmd": "cat(var_dic_list()) "
    }
   },
   "types_to_exclude": [
    "module",
    "function",
    "builtin_function_or_method",
    "instance",
    "_Feature"
   ],
   "window_display": false
  }
 },
 "nbformat": 4,
 "nbformat_minor": 5
}
